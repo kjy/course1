{
 "cells": [
  {
   "cell_type": "code",
   "execution_count": null,
   "metadata": {
    "collapsed": true
   },
   "outputs": [],
   "source": [
    "# products and invoices are already initalized.\n",
    "\n",
    "#answer = pd.merge(# Your Code Here)\n",
    "    print(pd.merge(products, invoices, left_index=True, right_on='Product ID'))\n",
    "\n",
    "answer == correct_answer"
   ]
  },
  {
   "cell_type": "code",
   "execution_count": null,
   "metadata": {
    "collapsed": true
   },
   "outputs": [],
   "source": [
    "print(df.head())\n",
    "#Method 1\n",
    "df.where(df['Quantity']!=0).rename(columns={'Weight': 'Weight (oz.)'})\n",
    "\n",
    "#Method 2\n",
    "print(df.drop(df[df['Quantity'] == 0].index).rename(columns={'Weight': 'Weight (oz.)'}))"
   ]
  },
  {
   "cell_type": "code",
   "execution_count": null,
   "metadata": {
    "collapsed": true
   },
   "outputs": [],
   "source": [
    "print(df.groupby('Category').apply(lambda df,a,b: sum(df[a] * df[b]), 'Weight (oz.)', 'Quantity'))\n",
    "\n",
    "\n",
    "# Or alternatively without using a lambda:\n",
    "# def totalweight(df, w, q):\n",
    "#        return sum(df[w] * df[q])\n",
    "#        \n",
    "# print(df.groupby('Category').apply(totalweight, 'Weight (oz.)', 'Quantity'))"
   ]
  },
  {
   "cell_type": "code",
   "execution_count": null,
   "metadata": {
    "collapsed": true
   },
   "outputs": [],
   "source": [
    "s.astype('category', categories=['Low', 'Medium', 'High'], ordered=True)\n"
   ]
  },
  {
   "cell_type": "code",
   "execution_count": null,
   "metadata": {
    "collapsed": true
   },
   "outputs": [],
   "source": [
    "# Bin to 3 cuts, spacing between cuts\n",
    "s = pd.Series([168, 180, 174, 190, 170, 185, 179, 181, 175, 169, 182, 177, 180, 171])\n",
    "\n",
    "\n",
    "pd.cut(s, 3)\n",
    "\n",
    "# You can also add labels for the sizes [Small < Medium < Large].\n",
    "pd.cut(s, 3, labels=['Small', 'Medium', 'Large'])"
   ]
  },
  {
   "cell_type": "code",
   "execution_count": null,
   "metadata": {
    "collapsed": true
   },
   "outputs": [],
   "source": [
    "print(pd.pivot_table(Bikes, index=['Manufacturer','Bike Type']))"
   ]
  }
 ],
 "metadata": {
  "kernelspec": {
   "display_name": "Python [Root]",
   "language": "python",
   "name": "Python [Root]"
  },
  "language_info": {
   "codemirror_mode": {
    "name": "ipython",
    "version": 3
   },
   "file_extension": ".py",
   "mimetype": "text/x-python",
   "name": "python",
   "nbconvert_exporter": "python",
   "pygments_lexer": "ipython3",
   "version": "3.5.2"
  }
 },
 "nbformat": 4,
 "nbformat_minor": 0
}
