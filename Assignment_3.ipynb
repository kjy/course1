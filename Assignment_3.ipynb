{
 "cells": [
  {
   "cell_type": "markdown",
   "metadata": {},
   "source": [
    "---\n",
    "\n",
    "_You are currently looking at **version 1.2** of this notebook. To download notebooks and datafiles, as well as get help on Jupyter notebooks in the Coursera platform, visit the [Jupyter Notebook FAQ](https://www.coursera.org/learn/python-data-analysis/resources/0dhYG) course resource._\n",
    "\n",
    "---"
   ]
  },
  {
   "cell_type": "markdown",
   "metadata": {},
   "source": [
    "# Assignment 3 - More Pandas\n",
    "All questions are weighted the same in this assignment. This assignment requires more individual learning then the last one did - you are encouraged to check out the [pandas documentation](http://pandas.pydata.org/pandas-docs/stable/) to find functions or methods you might not have used yet, or ask questions on [Stack Overflow](http://stackoverflow.com/) and tag them as pandas and python related. And of course, the discussion forums are open for interaction with your peers and the course staff."
   ]
  },
  {
   "cell_type": "markdown",
   "metadata": {},
   "source": [
    "### Question 1 (20%)\n",
    "Load the energy data from the file `Energy Indicators.xls`, which is a list of indicators of [energy supply and renewable electricity production](Energy%20Indicators.xls) from the [United Nations](http://unstats.un.org/unsd/environment/excel_file_tables/2013/Energy%20Indicators.xls) for the year 2013, and should be put into a DataFrame with the variable name of **energy**.\n",
    "\n",
    "Keep in mind that this is an Excel file, and not a comma separated values file. Also, make sure to exclude the footer and header information from the datafile. The first two columns are unneccessary, so you should get rid of them, and you should change the column labels so that the columns are:\n",
    "\n",
    "`['Country', 'Energy Supply', 'Energy Supply per Capita', '% Renewable]`\n",
    "\n",
    "Convert `Energy Supply` to gigajoules (there are 1,000,000 gigajoules in a petajoule). For all countries which have missing data (e.g. data with \"...\") make sure this is reflected as `np.NaN` values.\n",
    "\n",
    "Rename the following list of countries (for use in later questions):\n",
    "\n",
    "```\"Republic of Korea\": \"South Korea\",\n",
    "\"United States of America\": \"United States\",\n",
    "\"United Kingdom of Great Britain and Northern Ireland\": \"United Kingdom\",\n",
    "\"China, Hong Kong Special Administrative Region\": \"Hong Kong\"```\n",
    "\n",
    "There are also several countries with parenthesis in their name. Be sure to remove these, e.g. `'Bolivia (Plurinational State of)'` should be `'Bolivia'`.\n",
    "\n",
    "<br>\n",
    "\n",
    "Next, load the GDP data from the file `world_bank.csv`, which is a csv containing countries' GDP from 1960 to 2015 from [World Bank](http://data.worldbank.org/indicator/NY.GDP.MKTP.CD). Call this DataFrame **GDP**. \n",
    "\n",
    "Make sure to skip the header, and rename the following list of countries:\n",
    "\n",
    "```\"Korea, Rep.\": \"South Korea\", \n",
    "\"Iran, Islamic Rep.\": \"Iran\",\n",
    "\"Hong Kong SAR, China\": \"Hong Kong\"```\n",
    "\n",
    "<br>\n",
    "\n",
    "Finally, load the [Sciamgo Journal and Country Rank data for Energy Engineering and Power Technology](http://www.scimagojr.com/countryrank.php?category=2102) from the file `scimagojr-3.xlsx`, which ranks countries based on their journal contributions in the aforementioned area. Call this DataFrame **ScimEn**.\n",
    "\n",
    "Join the three datasets: GDP, Energy, and ScimEn into a new dataset (using the intersection of country names). Use only the last 10 years (2006-2015) of GDP data and only the top 15 countries by Scimagojr 'Rank' (Rank 1 through 15). \n",
    "\n",
    "The index of this DataFrame should be the name of the country, and the columns should be ['Rank', 'Documents', 'Citable documents', 'Citations', 'Self-citations',\n",
    "       'Citations per document', 'H index', 'Energy Supply',\n",
    "       'Energy Supply per Capita', '% Renewable', '2006', '2007', '2008',\n",
    "       '2009', '2010', '2011', '2012', '2013', '2014', '2015'].\n",
    "\n",
    "*This function should return a DataFrame with 20 columns and 15 entries.*"
   ]
  },
  {
   "cell_type": "code",
   "execution_count": 1,
   "metadata": {
    "collapsed": true
   },
   "outputs": [],
   "source": [
    "import pandas as pd\n",
    "import numpy as np"
   ]
  },
  {
   "cell_type": "code",
   "execution_count": 2,
   "metadata": {
    "collapsed": false
   },
   "outputs": [],
   "source": [
    "# PART I of III\n",
    "# read in excel file\n",
    "xl = pd.ExcelFile(\"Energy Indicators.xls\")\n",
    "energy = xl.parse()\n",
    "# delete rows above header\n",
    "energy.drop(energy.index[0:15], axis=0, inplace=True)\n",
    "\n",
    "# delete row below header and above 1st observation\n",
    "energy.drop(energy.index[0], axis=0, inplace=True)\n",
    "\n",
    "# Find last observation, Zimbabwe\n",
    "energy.loc[energy['Unnamed: 1'] == 'Zimbabwe'].index #242\n",
    "\n",
    "energy = energy.reset_index()\n",
    "\n",
    "# Deleter footer below Zimbabwe, which is at index position 181\n",
    "energy.drop(energy.index[227:], axis = 0, inplace=True)\n",
    "\n",
    "# drop first 2 columns, column index starts at 0\n",
    "energy.drop(energy.columns[[0, 2]], axis=1, inplace=True)\n",
    "\n",
    "energy.columns = ['Index', 'Country', 'Energy Supply', 'Energy Supply per Capita', '% Renewable']\n",
    "\n",
    "# drop first 2 columns, column index starts at 0\n",
    "energy.drop(energy.columns[[0]], axis=1, inplace=True)\n",
    "\n",
    "# Replace missing values with NaN\n",
    "import numpy as np\n",
    "energy = energy.replace('...', np.NaN)\n",
    "\n",
    "#Convert Energy Supply to gigajoules (there are 1,000,000 gigajoules in a petajoule).\n",
    "energy[\"Energy Supply\"] = energy[\"Energy Supply\"]*(float(1000000))\n",
    "\n",
    "\"\"\"\n",
    "Rename the following list of countries (for use in later questions):\n",
    "\"Republic of Korea\": \"South Korea\",\n",
    "\"United States of America\": \"United States\",\n",
    "\"United Kingdom of Great Britain and Northern Ireland\": \"United Kingdom\",\n",
    "\"China, Hong Kong Special Administrative Region\": \"Hong Kong\"\n",
    "\"\"\"\n",
    "energy['Country'] = energy['Country'].replace(\"Australia1\", \"Australia\")\n",
    "energy['Country'] = energy['Country'].replace(\"Bolivia (Plurinational State of)\", \"Bolivia\")\n",
    "energy['Country'] = energy['Country'].replace(\"China2\", \"China\")\n",
    "energy['Country'] = energy['Country'].replace(\"China, Hong Kong Special Administrative Region3\", \"Hong Kong\")\n",
    "energy['Country'] = energy['Country'].replace(\"China, Macao Special Administrative Region4\", \"China, Macao\")\n",
    "energy['Country'] = energy['Country'].replace(\"Denmark5\", \"Denmark\")\n",
    "energy['Country'] = energy['Country'].replace(\"Falkland Islands (Malvinas)\", \"Falkland Islands\")\n",
    "energy['Country'] = energy['Country'].replace(\"France6\", \"France\")\n",
    "energy['Country'] = energy['Country'].replace(\"Greenland7\", \"Greenland\")\n",
    "energy['Country'] = energy['Country'].replace(\"Indonesia8\", \"Indonesia\")\n",
    "energy['Country'] = energy['Country'].replace(\"Iran (Islamic Republic of)\", \"Iran\")\n",
    "energy['Country'] = energy['Country'].replace(\"Italy9\", \"Italy\")\n",
    "energy['Country'] = energy['Country'].replace(\"Japan10\", \"Japan\")\n",
    "energy['Country'] = energy['Country'].replace(\"Micronesia (Federated States of)\", \"Micronesia\")\n",
    "energy['Country'] = energy['Country'].replace(\"Kuwait11\", \"Kuwait\")\n",
    "energy['Country'] = energy['Country'].replace(\"Netherlands12\", \"Netherlands\")\n",
    "energy['Country'] = energy['Country'].replace(\"Portugal13\", \"Portugal\")\n",
    "energy['Country'] = energy['Country'].replace(\"Republic of Korea\", \"South Korea\")\n",
    "energy['Country'] = energy['Country'].replace(\"Saudi Arabia14\", \"Saudi Arabia\")\n",
    "energy['Country'] = energy['Country'].replace(\"Serbia15\", \"Serbia\")\n",
    "energy['Country'] = energy['Country'].replace(\"Sint Maarten (Dutch part)\", \"Sint Maarten\")\n",
    "energy['Country'] = energy['Country'].replace(\"Spain16\", \"Spain\")\n",
    "energy['Country'] = energy['Country'].replace(\"Switzerland17\", \"Switzerland\")\n",
    "energy['Country'] = energy['Country'].replace(\"Ukraine18\", \"Ukraine\")                                      \n",
    "energy['Country'] = energy['Country'].replace(\"United Kingdom of Great Britain and Northern Ireland19\", \"United Kingdom\")\n",
    "energy['Country'] = energy['Country'].replace(\"United States of America20\", \"United States\")\n",
    "energy['Country'] = energy['Country'].replace(\"Venezuela (Bolivarian Republic of)\", \"Venezuela\")\n",
    "\n",
    "energy = energy.set_index(\"Country\")\n",
    "#energy.shape  "
   ]
  },
  {
   "cell_type": "code",
   "execution_count": 3,
   "metadata": {
    "collapsed": false
   },
   "outputs": [],
   "source": [
    "# PART II of III\n",
    "# read world_bank csv file\n",
    "GDP = pd.read_csv(\"world_bank.csv\")\n",
    "\n",
    "# drop non-essential header rows\n",
    "GDP.drop(GDP.index[0:3], axis=0, inplace=True)\n",
    "\n",
    "# drop non-essential columns\n",
    "GDP.drop(GDP.columns[[1, 2, 3]], axis=1, inplace=True)\n",
    "\n",
    "new_header = GDP.iloc[0] #grab the first row for the header\n",
    "GDP = GDP[3:] #take the data less the header row\n",
    "GDP.rename(columns = new_header, inplace=True) #set the header row as the df header\n",
    "\n",
    "#GDP.shape  # (262, 57)\n",
    "\n",
    "GDP['Country Name'] = GDP['Country Name'].replace(\"Korea, Rep.\", \"South Korea\")\n",
    "GDP['Country Name'] = GDP['Country Name'].replace(\"Iran, Islamic Rep.\", \"Iran\")\n",
    "GDP['Country Name']= GDP['Country Name'].replace(\"Hong Kong SAR, China\", \"Hong Kong\")\n",
    "\n",
    "# Reset index\n",
    "GDP = GDP.set_index('Country Name')\n",
    "GDP.index.rename('Country', inplace=True)\n",
    "#GDP.columns = GDP.columns.astype()\n",
    "# GDP.shape  (262, 56)\n",
    "x = [1960.0, 1961.0, 1962.0, 1963.0, 1964.0, 1965.0, 1966.0, 1967.0, 1968.0,\n",
    "   1969.0, 1970.0, 1971.0, 1972.0, 1973.0, 1974.0, 1975.0, 1976.0, 1977.0,\n",
    "   1978.0, 1979.0, 1980.0, 1981.0, 1982.0, 1983.0, 1984.0, 1985.0, 1986.0,\n",
    "   1987.0, 1988.0, 1989.0, 1990.0, 1991.0, 1992.0, 1993.0, 1994.0, 1995.0,\n",
    "   1996.0, 1997.0, 1998.0, 1999.0, 2000.0, 2001.0, 2002.0, 2003.0, 2004.0,\n",
    "   2005.0, 2006.0, 2007.0, 2008.0, 2009.0, 2010.0, 2011.0, 2012.0, 2013.0,\n",
    "   2014.0, 2015.0]\n",
    "newcolnames = [str(int(a )) for a in x]\n",
    "GDP.columns = newcolnames\n",
    "GDP = GDP[[\"2006\", \"2007\", \"2008\", \"2009\", \"2010\", \"2011\", \"2012\", \"2013\", \"2014\", \"2015\"]]\n",
    "#GDP.head()"
   ]
  },
  {
   "cell_type": "code",
   "execution_count": 4,
   "metadata": {
    "collapsed": true
   },
   "outputs": [],
   "source": [
    "# PART III of III\n",
    "xl2 = pd.ExcelFile(\"scimagojr-3.xlsx\")\n",
    "ScimEn = xl2.parse()\n",
    "ScimEn = ScimEn.set_index('Country')\n",
    "#ScimEn.shape  (191, 7)"
   ]
  },
  {
   "cell_type": "code",
   "execution_count": 5,
   "metadata": {
    "collapsed": false
   },
   "outputs": [],
   "source": [
    "def answer_one():\n",
    "    # Use intersection based on country to join dataframe\n",
    "    part1 = pd.merge(ScimEn, energy, left_index=True, right_index=True, how=\"inner\")\n",
    "    final = pd.merge(part1, GDP, left_index=True, right_index=True, how=\"inner\")\n",
    "    final = final.sort_values('Rank')\n",
    "    #final.shape  # 161, 20\n",
    "    answer = final[0:15]\n",
    "    return answer\n",
    "\n",
    "#answer_one()"
   ]
  },
  {
   "cell_type": "markdown",
   "metadata": {},
   "source": [
    "### Question 2 (6.6%)\n",
    "The previous question joined three datasets then reduced this to just the top 15 entries. When you joined the datasets, but before you reduced this to the top 15 items, how many entries did you lose?\n",
    "\n",
    "*This function should return a single number.*"
   ]
  },
  {
   "cell_type": "code",
   "execution_count": 6,
   "metadata": {
    "collapsed": false
   },
   "outputs": [
    {
     "data": {
      "text/html": [
       "<svg width=\"800\" height=\"300\">\n",
       "  <circle cx=\"150\" cy=\"180\" r=\"80\" fill-opacity=\"0.2\" stroke=\"black\" stroke-width=\"2\" fill=\"blue\" />\n",
       "  <circle cx=\"200\" cy=\"100\" r=\"80\" fill-opacity=\"0.2\" stroke=\"black\" stroke-width=\"2\" fill=\"red\" />\n",
       "  <circle cx=\"100\" cy=\"100\" r=\"80\" fill-opacity=\"0.2\" stroke=\"black\" stroke-width=\"2\" fill=\"green\" />\n",
       "  <line x1=\"150\" y1=\"125\" x2=\"300\" y2=\"150\" stroke=\"black\" stroke-width=\"2\" fill=\"black\" stroke-dasharray=\"5,3\"/>\n",
       "  <text  x=\"300\" y=\"165\" font-family=\"Verdana\" font-size=\"35\">Everything but this!</text>\n",
       "</svg>"
      ],
      "text/plain": [
       "<IPython.core.display.HTML object>"
      ]
     },
     "metadata": {},
     "output_type": "display_data"
    }
   ],
   "source": [
    "%%HTML\n",
    "<svg width=\"800\" height=\"300\">\n",
    "  <circle cx=\"150\" cy=\"180\" r=\"80\" fill-opacity=\"0.2\" stroke=\"black\" stroke-width=\"2\" fill=\"blue\" />\n",
    "  <circle cx=\"200\" cy=\"100\" r=\"80\" fill-opacity=\"0.2\" stroke=\"black\" stroke-width=\"2\" fill=\"red\" />\n",
    "  <circle cx=\"100\" cy=\"100\" r=\"80\" fill-opacity=\"0.2\" stroke=\"black\" stroke-width=\"2\" fill=\"green\" />\n",
    "  <line x1=\"150\" y1=\"125\" x2=\"300\" y2=\"150\" stroke=\"black\" stroke-width=\"2\" fill=\"black\" stroke-dasharray=\"5,3\"/>\n",
    "  <text  x=\"300\" y=\"165\" font-family=\"Verdana\" font-size=\"35\">Everything but this!</text>\n",
    "</svg>"
   ]
  },
  {
   "cell_type": "code",
   "execution_count": 7,
   "metadata": {
    "collapsed": false
   },
   "outputs": [],
   "source": [
    "#energy_set = set(energy.index.tolist())\n",
    "#GDP_set = set(GDP.index.tolist())\n",
    "#ScimEn_set = set(ScimEn.index.tolist())\n",
    "#list_set = [energy_set, GDP_set, ScimEn_set]\n",
    "#union_all = frozenset().union(*list_set)"
   ]
  },
  {
   "cell_type": "code",
   "execution_count": 24,
   "metadata": {
    "collapsed": false
   },
   "outputs": [
    {
     "data": {
      "text/plain": [
       "149"
      ]
     },
     "execution_count": 24,
     "metadata": {},
     "output_type": "execute_result"
    }
   ],
   "source": [
    "def answer_two():\n",
    "    part1 = pd.merge(ScimEn, energy, left_index=True, right_index=True, how=\"inner\")\n",
    "    final = pd.merge(part1, GDP, left_index=True, right_index=True, how=\"inner\")\n",
    "    merged_inner = final.copy()\n",
    "\n",
    "    #step1 = pd.merge(energy, GDP, left_index=True, right_index=True, how=\"outer\")\n",
    "    #step2 = pd.merge(step1, ScimEn, left_index=True, right_index=True, how=\"outer\")\n",
    "\n",
    "    x = pd.concat([energy, GDP, ScimEn], axis=1).dropna(how=\"all\")\n",
    "    merged_outer_subtract_inner = x[~x.index.isin(merged_inner.index)]\n",
    "\n",
    "    return len(merged_outer_subtract_inner)\n",
    "    \n",
    "#answer_two()\n"
   ]
  },
  {
   "cell_type": "markdown",
   "metadata": {},
   "source": [
    "### Question 3 (6.6%)\n",
    "What are the top 15 countries for average GDP over the last 10 years?\n",
    "\n",
    "*This function should return a Series named `avgGDP` with 15 countries and their average GDP sorted in descending order.*"
   ]
  },
  {
   "cell_type": "code",
   "execution_count": 9,
   "metadata": {
    "collapsed": false,
    "scrolled": true
   },
   "outputs": [],
   "source": [
    "def answer_three():\n",
    "    Top15 = answer_one()\n",
    "    df1 = Top15.copy()\n",
    "    df1[\"avgGDP\"] = Top15[[\"2006\" ,\"2007\" ,\"2008\", \"2009\",  \"2010\" , \"2011\", \"2012\", \"2013\", \"2014\", \"2015\"]].mean(axis=1)\n",
    "    ans = df1.sort_values(\"avgGDP\", ascending=False)\n",
    "    output = pd.Series(ans.avgGDP, index=ans.index)\n",
    "    #return \"ANSWER\" panda series\n",
    "    return output\n",
    "\n",
    "#answer_three()"
   ]
  },
  {
   "cell_type": "markdown",
   "metadata": {},
   "source": [
    "### Question 4 (6.6%)\n",
    "By how much had the GDP changed over the 10 year span for the country with the 6th largest average GDP?\n",
    "\n",
    "*This function should return a single number.*"
   ]
  },
  {
   "cell_type": "code",
   "execution_count": 10,
   "metadata": {
    "collapsed": false,
    "scrolled": true
   },
   "outputs": [],
   "source": [
    "def answer_four():\n",
    "    Top15 = answer_one()\n",
    "    change = Top15.loc[\"United Kingdom\", \"2015\"] - Top15.loc[\"United Kingdom\", \"2006\"]    \n",
    "    #return \"ANSWER\"\n",
    "    return change\n",
    "\n",
    "#answer_four()"
   ]
  },
  {
   "cell_type": "markdown",
   "metadata": {},
   "source": [
    "### Question 5 (6.6%)\n",
    "What is the mean energy supply per capita?\n",
    "\n",
    "*This function should return a single number.*"
   ]
  },
  {
   "cell_type": "code",
   "execution_count": 11,
   "metadata": {
    "collapsed": false
   },
   "outputs": [],
   "source": [
    "def answer_five():\n",
    "    Top15 = answer_one()\n",
    "    ans = Top15[\"Energy Supply per Capita\"].mean()\n",
    "    #return \"ANSWER\"\n",
    "    return ans\n",
    "#answer_five()"
   ]
  },
  {
   "cell_type": "markdown",
   "metadata": {},
   "source": [
    "### Question 6 (6.6%)\n",
    "What country has the maximum % Renewable and what is the percentage?\n",
    "\n",
    "*This function should return a tuple with the name of the country and the percentage.*"
   ]
  },
  {
   "cell_type": "code",
   "execution_count": 12,
   "metadata": {
    "collapsed": false
   },
   "outputs": [],
   "source": [
    "def answer_six():\n",
    "    Top15 = answer_one()\n",
    "    figpercent = Top15[\"% Renewable\"].max()\n",
    "    answer = Top15[\"% Renewable\"].idxmax()\n",
    "    #return \"ANSWER\"\n",
    "    return (answer, figpercent)\n",
    "\n",
    "#answer_six()"
   ]
  },
  {
   "cell_type": "markdown",
   "metadata": {},
   "source": [
    "### Question 7 (6.6%)\n",
    "Create a new column that is the ratio of Self-Citations to Total Citations. \n",
    "What is the maximum value for this new column, and what country has the highest ratio?\n",
    "\n",
    "*This function should return a tuple with the name of the country and the ratio.*"
   ]
  },
  {
   "cell_type": "code",
   "execution_count": 13,
   "metadata": {
    "collapsed": false
   },
   "outputs": [],
   "source": [
    "def answer_seven():\n",
    "    Top15 = answer_one()\n",
    "    Top15[\"ratioSC\"] = Top15[\"Self-citations\"]/Top15[\"Citations\"]\n",
    "    highratio = Top15[\"ratioSC\"].max()\n",
    "    answer = Top15[\"ratioSC\"].idxmax()\n",
    "    #return \"ANSWER\"\n",
    "    return (answer, highratio)\n",
    "\n",
    "#answer_seven()"
   ]
  },
  {
   "cell_type": "markdown",
   "metadata": {},
   "source": [
    "### Question 8 (6.6%)\n",
    "\n",
    "Create a column that estimates the population using Energy Supply and Energy Supply per capita. \n",
    "What is the third most populous country according to this estimate?\n",
    "\n",
    "*This function should return a single string value.*"
   ]
  },
  {
   "cell_type": "code",
   "execution_count": 14,
   "metadata": {
    "collapsed": false
   },
   "outputs": [],
   "source": [
    "def answer_eight():\n",
    "    Top15 = answer_one()\n",
    "    Top15[\"PopEstimate\"]= (Top15[\"Energy Supply\"])/Top15[\"Energy Supply per Capita\"]\n",
    "    Top15 = Top15.sort_values(\"PopEstimate\", ascending=False)\n",
    "    answer = Top15.ix[[2]].index.tolist()[0]\n",
    "    #return \"ANSWER\"\n",
    "    return answer\n",
    "\n",
    "#answer_eight()"
   ]
  },
  {
   "cell_type": "markdown",
   "metadata": {},
   "source": [
    "### Question 9\n",
    "Create a column that estimates the number of citable documents per person. \n",
    "What is the correlation between the number of citable documents per capita and the energy supply per capita? Use the `.corr()` method, (Pearson's correlation).\n",
    "\n",
    "*This function should return a single number.*\n",
    "\n",
    "*(Optional: Use the built-in function `plot9()` to visualize the relationship between Energy Supply per Capita vs. Citable docs per Capita)*"
   ]
  },
  {
   "cell_type": "code",
   "execution_count": 15,
   "metadata": {
    "collapsed": false
   },
   "outputs": [],
   "source": [
    "def answer_nine():\n",
    "    Top15 = answer_one()\n",
    "    Top15['PopEst'] = Top15['Energy Supply'] / Top15['Energy Supply per Capita']\n",
    "    Top15['Citable docs per Capita'] = Top15['Citable documents'] / Top15['PopEst']\n",
    "    ans = Top15[[\"Citable docs per Capita\", \"Energy Supply per Capita\"]].corr()\n",
    "    result = ans.iloc[1][0]\n",
    "    #return \"ANSWER\"\n",
    "    return result\n",
    "\n",
    "#answer_nine()"
   ]
  },
  {
   "cell_type": "code",
   "execution_count": 16,
   "metadata": {
    "collapsed": false
   },
   "outputs": [],
   "source": [
    "def plot9():\n",
    "    import matplotlib as plt\n",
    "    %matplotlib inline\n",
    "    \n",
    "    Top15 = answer_one()\n",
    "    Top15['PopEst'] = Top15['Energy Supply'] / Top15['Energy Supply per Capita']\n",
    "    Top15['Citable docs per Capita'] = Top15['Citable documents'] / Top15['PopEst']\n",
    "    Top15.plot(x='Citable docs per Capita', y='Energy Supply per Capita', kind='scatter', xlim=[0, 0.0006])"
   ]
  },
  {
   "cell_type": "code",
   "execution_count": 17,
   "metadata": {
    "collapsed": false
   },
   "outputs": [],
   "source": [
    "#plot9() # Be sure to comment out plot9() before submitting the assignment!"
   ]
  },
  {
   "cell_type": "markdown",
   "metadata": {},
   "source": [
    "### Question 10 (6.6%)\n",
    "Create a new column with a 1 if the country's % Renewable value is at or above the median for all countries in the top 15, and a 0 if the country's % Renewable value is below the median.\n",
    "\n",
    "*This function should return a series named `HighRenew` whose index is the country name sorted in ascending order of rank.*"
   ]
  },
  {
   "cell_type": "code",
   "execution_count": 18,
   "metadata": {
    "collapsed": false
   },
   "outputs": [],
   "source": [
    "def answer_ten():\n",
    "    Top15 = answer_one()\n",
    "    medianRenewable = Top15[\"% Renewable\"].median() #17.02028\n",
    "    Top15['HighRenew'] = np.where(Top15['% Renewable'] >= medianRenewable, 1, 0)\n",
    "    Top15 = Top15.sort_values('Rank')\n",
    "    HighRenew = pd.Series(Top15[\"HighRenew\"], index=Top15.index)\n",
    "    #return \"ANSWER\"\n",
    "    return HighRenew\n",
    "\n",
    "#answer_ten()"
   ]
  },
  {
   "cell_type": "markdown",
   "metadata": {},
   "source": [
    "### Question 11 (6.6%)\n",
    "Use the following dictionary to group the Countries by Continent, then create a dateframe that displays the sample size (the number of countries in each continent bin), and the sum, mean, and std deviation for the estimated population of each country.\n",
    "\n",
    "```python\n",
    "ContinentDict  = {'China':'Asia', \n",
    "                  'United States':'North America', \n",
    "                  'Japan':'Asia', \n",
    "                  'United Kingdom':'Europe', \n",
    "                  'Russian Federation':'Europe', \n",
    "                  'Canada':'North America', \n",
    "                  'Germany':'Europe', \n",
    "                  'India':'Asia',\n",
    "                  'France':'Europe', \n",
    "                  'South Korea':'Asia', \n",
    "                  'Italy':'Europe', \n",
    "                  'Spain':'Europe', \n",
    "                  'Iran':'Asia',\n",
    "                  'Australia':'Australia', \n",
    "                  'Brazil':'South America'}\n",
    "```\n",
    "\n",
    "*This function should return a DataFrame with index named Continent `['Asia', 'Australia', 'Europe', 'North America', 'South America']` and columns `['size', 'sum', 'mean', 'std']`*"
   ]
  },
  {
   "cell_type": "code",
   "execution_count": 19,
   "metadata": {
    "collapsed": false
   },
   "outputs": [],
   "source": [
    "def answer_eleven():\n",
    "    Top15 = answer_one() \n",
    "    Top15[\"PopEstimate\"]= (Top15[\"Energy Supply\"])/Top15[\"Energy Supply per Capita\"]\n",
    "\n",
    "    ContinentDict  = {'China':'Asia', \n",
    "                      'United States':'North America', \n",
    "                      'Japan':'Asia', \n",
    "                      'United Kingdom':'Europe', \n",
    "                      'Russian Federation':'Europe', \n",
    "                      'Canada':'North America', \n",
    "                      'Germany':'Europe', \n",
    "                      'India':'Asia',\n",
    "                      'France':'Europe', \n",
    "                      'South Korea':'Asia', \n",
    "                      'Italy':'Europe', \n",
    "                      'Spain':'Europe', \n",
    "                      'Iran':'Asia',\n",
    "                      'Australia':'Australia', \n",
    "                      'Brazil':'South America'}\n",
    "\n",
    "    df  = Top15[\"PopEstimate\"]\n",
    "    df = df.groupby(ContinentDict).agg([np.size,np.sum,np.mean,np.std]) \n",
    "    # then re_name the index 'Continent', you can find this on google. \n",
    "    df.index.name='Continent'\n",
    "    #return \"ANSWER\"\n",
    "    return df\n",
    "\n",
    "#answer_eleven()\n",
    "#Top15 = answer_one()\n",
    "#import pandas as pd\n",
    "#import numpy as np\n",
    "\n",
    "#df = Top15.groupby(ContinentDict).agg([np.size,np.sum,np.mean,np.std]) \n",
    "# then re_name the index 'Continent', you can find this on google. \n",
    "# remove columns df.drop(columns=['columns go here']) \n",
    "# return df['PopEst'] "
   ]
  },
  {
   "cell_type": "markdown",
   "metadata": {},
   "source": [
    "### Question 12 (6.6%)\n",
    "Cut % Renewable into 5 bins. Group Top15 by the Continent, as well as these new % Renewable bins. How many countries are in each of these groups?\n",
    "\n",
    "*This function should return a Series with a MultiIndex of `Continent`, then the bins for `% Renewable`. Do not include groups with no countries.*"
   ]
  },
  {
   "cell_type": "code",
   "execution_count": 20,
   "metadata": {
    "collapsed": false,
    "scrolled": true
   },
   "outputs": [],
   "source": [
    "def answer_twelve():\n",
    "    ContinentDict  = {'China':'Asia', \n",
    "                  'United States':'North America', \n",
    "                  'Japan':'Asia', \n",
    "                  'United Kingdom':'Europe', \n",
    "                  'Russian Federation':'Europe', \n",
    "                  'Canada':'North America', \n",
    "                  'Germany':'Europe', \n",
    "                  'India':'Asia',\n",
    "                  'France':'Europe', \n",
    "                  'South Korea':'Asia', \n",
    "                  'Italy':'Europe', \n",
    "                  'Spain':'Europe', \n",
    "                  'Iran':'Asia',\n",
    "                  'Australia':'Australia', \n",
    "                  'Brazil':'South America'}\n",
    "    Top15 = answer_one()\n",
    "    bins = pd.cut(Top15['% Renewable'], 5)\n",
    "    df = Top15['% Renewable']\n",
    "    df2 = df.groupby([ContinentDict,bins]).agg(np.size).astype(int)\n",
    "    df2.index.name='Continent'\n",
    "    df2.index.names=['Continent', '% Renewable bins']\n",
    "    result = pd.Series(df2)\n",
    "    #return \"ANSWER\"\n",
    "    return result\n",
    "\n",
    "#answer_twelve()"
   ]
  },
  {
   "cell_type": "markdown",
   "metadata": {},
   "source": [
    "### Question 13 (6.6%)\n",
    "Convert the Population Estimate series to a string with thousands separator (using commas). Use all significant digits (do not round the results).\n",
    "\n",
    "e.g. 12345678.90 -> 12,345,678.90\n",
    "\n",
    "*This function should return a Series `PopEst` whose index is the country name and whose values are the population estimate string.*"
   ]
  },
  {
   "cell_type": "code",
   "execution_count": 21,
   "metadata": {
    "collapsed": false,
    "scrolled": true
   },
   "outputs": [],
   "source": [
    "def answer_thirteen():\n",
    "    Top15 = answer_one()\n",
    "    #pd.set_option('display.float_format',lambda x: '{:,.4f}'.format(x) if abs(x) < 10000 else '{:,.2f}'.format(x))\n",
    "    Top15[\"PopEstimate\"]= (Top15[\"Energy Supply\"])/Top15[\"Energy Supply per Capita\"]\n",
    "    PopEst = pd.Series(Top15.PopEstimate, index=Top15.index)\n",
    "    #pd.options.display.float_format = '{:,}'.format\n",
    "    PopEst = pd.Series([\"{:,}\".format(val) for val in Top15['PopEstimate']], index = Top15.index)\n",
    "    #return \"ANSWER\"\n",
    "    return PopEst\n",
    "\n",
    "#answer_thirteen()"
   ]
  },
  {
   "cell_type": "markdown",
   "metadata": {},
   "source": [
    "### Optional\n",
    "\n",
    "Use the built in function `plot_optional()` to see an example visualization."
   ]
  },
  {
   "cell_type": "code",
   "execution_count": 22,
   "metadata": {
    "collapsed": false,
    "scrolled": true
   },
   "outputs": [],
   "source": [
    "def plot_optional():\n",
    "    import matplotlib as plt\n",
    "    %matplotlib inline\n",
    "    Top15 = answer_one()\n",
    "    ax = Top15.plot(x='Rank', y='% Renewable', kind='scatter', \n",
    "                    c=['#e41a1c','#377eb8','#e41a1c','#4daf4a','#4daf4a','#377eb8','#4daf4a','#e41a1c',\n",
    "                       '#4daf4a','#e41a1c','#4daf4a','#4daf4a','#e41a1c','#dede00','#ff7f00'], \n",
    "                    xticks=range(1,16), s=6*Top15['2014']/10**10, alpha=.75, figsize=[16,6]);\n",
    "\n",
    "    for i, txt in enumerate(Top15.index):\n",
    "        ax.annotate(txt, [Top15['Rank'][i], Top15['% Renewable'][i]], ha='center')\n",
    "\n",
    "    print(\"This is an example of a visualization that can be created to help understand the data. \\\n",
    "This is a bubble chart showing % Renewable vs. Rank. The size of the bubble corresponds to the countries' \\\n",
    "2014 GDP, and the color corresponds to the continent.\")"
   ]
  },
  {
   "cell_type": "code",
   "execution_count": 23,
   "metadata": {
    "collapsed": false
   },
   "outputs": [],
   "source": [
    "#plot_optional() # Be sure to comment out plot_optional() before submitting the assignment!"
   ]
  },
  {
   "cell_type": "code",
   "execution_count": null,
   "metadata": {
    "collapsed": true
   },
   "outputs": [],
   "source": []
  }
 ],
 "metadata": {
  "anaconda-cloud": {},
  "coursera": {
   "course_slug": "python-data-analysis",
   "graded_item_id": "zAr06",
   "launcher_item_id": "KSSjT",
   "part_id": "SL3fU"
  },
  "kernelspec": {
   "display_name": "Python [Root]",
   "language": "python",
   "name": "Python [Root]"
  },
  "language_info": {
   "codemirror_mode": {
    "name": "ipython",
    "version": 3
   },
   "file_extension": ".py",
   "mimetype": "text/x-python",
   "name": "python",
   "nbconvert_exporter": "python",
   "pygments_lexer": "ipython3",
   "version": "3.5.2"
  }
 },
 "nbformat": 4,
 "nbformat_minor": 0
}
